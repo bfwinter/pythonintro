{
  "cells": [
    {
      "cell_type": "markdown",
      "metadata": {
        "id": "tOXdp0txwovV"
      },
      "source": [
        "# Starting out with Python and notebooks\n"
      ]
    },
    {
      "cell_type": "markdown",
      "metadata": {
        "id": "RMV-Lp3vOpo4"
      },
      "source": [
        "## Cell types\n",
        "\n",
        "There are two basic cell types in notebooks\n",
        "1. Markdown cells\n",
        "2. Code cells\n",
        "\n",
        "### Markdown Cells\n",
        "\n",
        "- Good for writing. Can use standard \"Markdown\" formatting\n",
        "- Can use \"LaTeX\" formatting for equations\n",
        "\n",
        "For example. Here is an equation inline: $F = ma$. And, here's an equation in display form:\n",
        "\n",
        "$$ E = \\frac{V^2}{2g}+y $$\n",
        "\n",
        "You can also use standard LaTex \"equation environment\" in:\n",
        "\n",
        "\n",
        "\\begin{equation}\n",
        "P_1+\\frac{1}{2}\\rho v_1^2 + \\rho g h_1= P_2+\\frac{1}{2}\\rho v_1^2 + \\rho g h_2\n",
        "\\end{equation}\n",
        "\n",
        "### Code Cells\n",
        "\n",
        "\"Code\" cell block are where the computations are actually performed. Before we get going with code, we'll need to load a few libraries."
      ]
    },
    {
      "cell_type": "markdown",
      "metadata": {
        "id": "UyZgszEC7LT-"
      },
      "source": [
        "## Loading libraries\n",
        "\n",
        "Try executing the following blocks of code (press the play button to the side or use the hotkey command ```shift+enter```):"
      ]
    },
    {
      "cell_type": "code",
      "execution_count": null,
      "metadata": {
        "id": "W7VyUCXx7UrD",
        "colab": {
          "base_uri": "https://localhost:8080/"
        },
        "outputId": "7bbdb9ec-531e-41fb-fdf9-e2f0e6c9a5d2"
      },
      "outputs": [
        {
          "output_type": "execute_result",
          "data": {
            "text/plain": [
              "10"
            ]
          },
          "metadata": {},
          "execution_count": 4
        }
      ],
      "source": [
        "5+5"
      ]
    },
    {
      "cell_type": "code",
      "execution_count": null,
      "metadata": {
        "id": "IWMUvAcYwovX",
        "colab": {
          "base_uri": "https://localhost:8080/",
          "height": 141
        },
        "outputId": "b44fd727-2f60-4713-9c97-56c258b82f26"
      },
      "outputs": [
        {
          "output_type": "error",
          "ename": "NameError",
          "evalue": "name 'pi' is not defined",
          "traceback": [
            "\u001b[0;31m---------------------------------------------------------------------------\u001b[0m",
            "\u001b[0;31mNameError\u001b[0m                                 Traceback (most recent call last)",
            "\u001b[0;32m<ipython-input-2-f84ab820532c>\u001b[0m in \u001b[0;36m<cell line: 1>\u001b[0;34m()\u001b[0m\n\u001b[0;32m----> 1\u001b[0;31m \u001b[0mpi\u001b[0m\u001b[0;34m\u001b[0m\u001b[0;34m\u001b[0m\u001b[0m\n\u001b[0m",
            "\u001b[0;31mNameError\u001b[0m: name 'pi' is not defined"
          ]
        }
      ],
      "source": [
        "pi"
      ]
    },
    {
      "cell_type": "code",
      "execution_count": null,
      "metadata": {
        "id": "ikofb8vDwovX",
        "colab": {
          "base_uri": "https://localhost:8080/",
          "height": 141
        },
        "outputId": "73e50557-3a67-4bbb-beae-c8c0749be20f"
      },
      "outputs": [
        {
          "output_type": "error",
          "ename": "NameError",
          "evalue": "name 'sin' is not defined",
          "traceback": [
            "\u001b[0;31m---------------------------------------------------------------------------\u001b[0m",
            "\u001b[0;31mNameError\u001b[0m                                 Traceback (most recent call last)",
            "\u001b[0;32m<ipython-input-3-47b39c6bb11a>\u001b[0m in \u001b[0;36m<cell line: 1>\u001b[0;34m()\u001b[0m\n\u001b[0;32m----> 1\u001b[0;31m \u001b[0msin\u001b[0m\u001b[0;34m(\u001b[0m\u001b[0;36m5\u001b[0m\u001b[0;34m)\u001b[0m\u001b[0;34m\u001b[0m\u001b[0;34m\u001b[0m\u001b[0m\n\u001b[0m",
            "\u001b[0;31mNameError\u001b[0m: name 'sin' is not defined"
          ]
        }
      ],
      "source": [
        "sin(5)"
      ]
    },
    {
      "cell_type": "markdown",
      "metadata": {
        "id": "EyUt60AgwovX"
      },
      "source": [
        "As you can see, ```pi``` or ```sin``` are not available for use in standard base Python. That is, ```pi``` and ```sin``` don't necessarily mean anything on their own. They are just letters that you might use to define a variable.\n",
        "\n",
        "To use them as mathematical operators you need to import libraries where these are specifically defined operations and values. The most common library for most scientific calculations is called [NumPy](https://numpy.org/). We need to load this to get access to common mathematical operations and other backbone components of scientific computing.\n",
        "\n",
        "There are different ways to load NumPy and other libraries to gain access. Here are some examples:\n",
        "\n",
        "### Method 1a"
      ]
    },
    {
      "cell_type": "code",
      "execution_count": null,
      "metadata": {
        "id": "M6ORQqRNwovX",
        "colab": {
          "base_uri": "https://localhost:8080/"
        },
        "outputId": "6a8e5fb9-402a-429a-8855-72b61a8fc9da"
      },
      "outputs": [
        {
          "output_type": "execute_result",
          "data": {
            "text/plain": [
              "1.2246467991473532e-16"
            ]
          },
          "metadata": {},
          "execution_count": 5
        }
      ],
      "source": [
        "import numpy as np\n",
        "\n",
        "# now we can try taking the sin of pi by using np to refer to the numpy library and .pi and .sin as\n",
        "# the attributes of numpy called pi and sin\n",
        "\n",
        "np.sin(np.pi)"
      ]
    },
    {
      "cell_type": "markdown",
      "metadata": {
        "id": "0MhMTXj9wovX"
      },
      "source": [
        "### Method 1b\n",
        "Here we load all of numpy as np, but then add some stuff directly so that we don't need the np.*"
      ]
    },
    {
      "cell_type": "code",
      "execution_count": 2,
      "metadata": {
        "id": "yhSiWvla7Qpg",
        "colab": {
          "base_uri": "https://localhost:8080/"
        },
        "outputId": "56057888-4492-4890-d18e-c3628ab9803d"
      },
      "outputs": [
        {
          "output_type": "execute_result",
          "data": {
            "text/plain": [
              "1.2246467991473532e-16"
            ]
          },
          "metadata": {},
          "execution_count": 2
        }
      ],
      "source": [
        "import numpy as np\n",
        "from numpy import pi, sin\n",
        "\n",
        "#it may be helpful to import specific references if they're used frequently\n",
        "\n",
        "sin(pi)"
      ]
    },
    {
      "cell_type": "markdown",
      "metadata": {
        "id": "gM6UJgbDwovY"
      },
      "source": [
        "## Variables and foundational types of data\n",
        "\n",
        "### Variables\n",
        "\n",
        "Variables are short hand names for different types of data that we can refer to"
      ]
    },
    {
      "cell_type": "code",
      "execution_count": null,
      "metadata": {
        "id": "2W2zyrpxwovY"
      },
      "outputs": [],
      "source": [
        "var = 8"
      ]
    },
    {
      "cell_type": "markdown",
      "metadata": {
        "id": "jzB4YfFAwovY"
      },
      "source": [
        "### Strings"
      ]
    },
    {
      "cell_type": "code",
      "execution_count": null,
      "metadata": {
        "id": "YTOtKaLEwovY",
        "colab": {
          "base_uri": "https://localhost:8080/",
          "height": 35
        },
        "outputId": "7fedb95c-6074-4096-ac2b-07de7a514ced"
      },
      "outputs": [
        {
          "output_type": "execute_result",
          "data": {
            "text/plain": [
              "'Hello world'"
            ],
            "application/vnd.google.colaboratory.intrinsic+json": {
              "type": "string"
            }
          },
          "metadata": {},
          "execution_count": 11
        }
      ],
      "source": [
        "var2 = 'Hello world'\n",
        "\n",
        "var2"
      ]
    },
    {
      "cell_type": "markdown",
      "metadata": {
        "id": "jG_V9Nx9wovY"
      },
      "source": [
        "### Floats and integers"
      ]
    },
    {
      "cell_type": "markdown",
      "metadata": {
        "id": "LgRnXp21wovY"
      },
      "source": [
        "what if ```var = 1```?"
      ]
    },
    {
      "cell_type": "code",
      "execution_count": null,
      "metadata": {
        "id": "SoVorqGVwovY",
        "colab": {
          "base_uri": "https://localhost:8080/"
        },
        "outputId": "3d47fe90-3b24-47c3-ea3f-fd873f2ac76b"
      },
      "outputs": [
        {
          "output_type": "execute_result",
          "data": {
            "text/plain": [
              "1"
            ]
          },
          "metadata": {},
          "execution_count": 7
        }
      ],
      "source": [
        "var = 1\n",
        "\n",
        "var"
      ]
    },
    {
      "cell_type": "markdown",
      "metadata": {
        "id": "9csoNFY8wovY"
      },
      "source": [
        "Now try ```var = 1.5```"
      ]
    },
    {
      "cell_type": "code",
      "execution_count": null,
      "metadata": {
        "id": "9_pBElA3wovY",
        "colab": {
          "base_uri": "https://localhost:8080/"
        },
        "outputId": "7b3a9a1f-e722-47f2-b398-a561ddf1ed9c"
      },
      "outputs": [
        {
          "output_type": "execute_result",
          "data": {
            "text/plain": [
              "1.5"
            ]
          },
          "metadata": {},
          "execution_count": 9
        }
      ],
      "source": [
        "var = 1.5\n",
        "\n",
        "var"
      ]
    },
    {
      "cell_type": "markdown",
      "metadata": {
        "id": "C1OQnV6HwovY"
      },
      "source": [
        "What happens when ```var = 1.```?"
      ]
    },
    {
      "cell_type": "code",
      "execution_count": null,
      "metadata": {
        "id": "7jb_tWsrwovY",
        "colab": {
          "base_uri": "https://localhost:8080/"
        },
        "outputId": "1aa0a8f1-1516-42a6-b8a9-d960d8a65271"
      },
      "outputs": [
        {
          "output_type": "stream",
          "name": "stdout",
          "text": [
            "1.0\n"
          ]
        }
      ],
      "source": [
        "var = 1.\n",
        "\n",
        "print(var)"
      ]
    },
    {
      "cell_type": "markdown",
      "metadata": {
        "id": "1L1Gx_bKwovY"
      },
      "source": [
        "## Commenting\n",
        "\n",
        "Notice what the ```#``` mark does in a code block"
      ]
    },
    {
      "cell_type": "code",
      "execution_count": null,
      "metadata": {
        "id": "Fqig3tc8wovY",
        "colab": {
          "base_uri": "https://localhost:8080/"
        },
        "outputId": "86367ce0-0a4a-44d3-cf09-9da77b585b39"
      },
      "outputs": [
        {
          "output_type": "execute_result",
          "data": {
            "text/plain": [
              "2.0"
            ]
          },
          "metadata": {},
          "execution_count": 13
        }
      ],
      "source": [
        "2*var"
      ]
    },
    {
      "cell_type": "code",
      "execution_count": null,
      "metadata": {
        "id": "u-bD29C4wovY"
      },
      "outputs": [],
      "source": [
        "# 2*var"
      ]
    },
    {
      "cell_type": "markdown",
      "metadata": {
        "id": "aKRm0_XKwovY"
      },
      "source": [
        "You can toggle a line of code off any on by placing or removing ```#``` in front of the code. You can also use hotkeys to comment/uncomment. On windows, the hotkey is ```ctrl+/```"
      ]
    },
    {
      "cell_type": "markdown",
      "metadata": {
        "id": "hl2EHHtiOpo8"
      },
      "source": [
        "## Arrays\n",
        "\n",
        "Arrays are very generic containers for numbers and strings. You can think of an array as a row or column from a spreadsheet (1D), the rows and columns of a spreadsheet (2D), or any number of multidimentional object with arrays within arrays within arrays. Arrays provide the backbone for most scientific operations. Below we will work with a basic one dimensional arrays. For more on Numpy arrays see - [A Visual Intro to NumPy and Data Representation](https://jalammar.github.io/visual-numpy/)"
      ]
    },
    {
      "cell_type": "code",
      "execution_count": 4,
      "metadata": {
        "id": "qouJKTu8Opo8",
        "colab": {
          "base_uri": "https://localhost:8080/"
        },
        "outputId": "11e208bc-7ec8-440a-f1c1-1cd6dbdafda1"
      },
      "outputs": [
        {
          "output_type": "stream",
          "name": "stdout",
          "text": [
            "[ 0  1  2  3  4  5  6  7  8  9 10 11 12 13 14 15 16 17 18 19 20 21 22 23\n",
            " 24 25 26 27 28 29 30 31 32 33 34 35 36 37 38 39 40 41 42 43 44 45 46 47\n",
            " 48 49 50 51 52 53 54 55 56 57 58 59 60 61 62 63 64 65 66 67 68 69 70 71\n",
            " 72 73 74 75 76 77 78 79 80 81 82 83 84 85 86 87 88 89 90 91 92 93 94 95\n",
            " 96 97 98 99]\n"
          ]
        },
        {
          "output_type": "execute_result",
          "data": {
            "text/plain": [
              "100"
            ]
          },
          "metadata": {},
          "execution_count": 4
        }
      ],
      "source": [
        "# 100 pt array that ranges from 0 to 10*pi in even increments (float)\n",
        "\n",
        "import numpy as np\n",
        "from numpy import linspace\n",
        "\n",
        "x = linspace(0, 10*np.pi, 100)\n",
        "\n",
        "# 100 pt array of integers ranging from 0 to 100-1\n",
        "xint = np.arange(100)\n",
        "\n",
        "print(xint)\n",
        "\n",
        "#check the length of the array to check\n",
        "len(xint)"
      ]
    },
    {
      "cell_type": "code",
      "execution_count": null,
      "metadata": {
        "id": "9GHwf_9vOpo-",
        "colab": {
          "base_uri": "https://localhost:8080/"
        },
        "outputId": "b25b11c7-b108-4df1-82f9-8fbc5e6c315f"
      },
      "outputs": [
        {
          "output_type": "execute_result",
          "data": {
            "text/plain": [
              "array([0.        , 0.31733259, 0.63466518])"
            ]
          },
          "metadata": {},
          "execution_count": 50
        }
      ],
      "source": [
        "# returns the x values from spots 0, 1, 2 in the array\n",
        "x[:3]"
      ]
    },
    {
      "cell_type": "code",
      "execution_count": 5,
      "metadata": {
        "id": "8ppiqvY1OppC"
      },
      "outputs": [],
      "source": [
        "# create y1 as being the sin of x\n",
        "y1 = np.sin(x)\n",
        "\n",
        "# create y2 as y1 * xint\n",
        "y2 = y1*xint\n",
        "\n",
        "# create y3 as x^2\n",
        "y3 = x**2"
      ]
    },
    {
      "cell_type": "markdown",
      "metadata": {
        "id": "HJaBYF0wOppE"
      },
      "source": [
        "## Plotting"
      ]
    },
    {
      "cell_type": "code",
      "execution_count": 8,
      "metadata": {
        "id": "zguTk7f3OppE",
        "colab": {
          "base_uri": "https://localhost:8080/",
          "height": 449
        },
        "outputId": "ffc6dfd9-ef2d-49eb-a233-e31f806c8f97"
      },
      "outputs": [
        {
          "output_type": "display_data",
          "data": {
            "text/plain": [
              "<Figure size 640x480 with 1 Axes>"
            ],
            "image/png": "[encoded data removed]"
          },
          "metadata": {}
        }
      ],
      "source": [
        "# plot y1 vs x\n",
        "\n",
        "import matplotlib.pyplot as plt\n",
        "\n",
        "fig,ax = plt.subplots()\n",
        "ax.plot(x, y1)\n",
        "ax.set_xlabel('x')\n",
        "ax.set_ylabel('y1')\n",
        "\n",
        "plt.show()"
      ]
    },
    {
      "cell_type": "code",
      "execution_count": 10,
      "metadata": {
        "id": "b_Cjxqb4OppH",
        "colab": {
          "base_uri": "https://localhost:8080/",
          "height": 449
        },
        "outputId": "7b89aa7c-a636-4c47-fa1b-08665344b39e"
      },
      "outputs": [
        {
          "output_type": "display_data",
          "data": {
            "text/plain": [
              "<Figure size 640x480 with 1 Axes>"
            ],
            "image/png": "[encoded data removed]"
          },
          "metadata": {}
        }
      ],
      "source": [
        "# plot y2 vs x\n",
        "\n",
        "fig,ax = plt.subplots()\n",
        "ax.plot(x, y2)\n",
        "ax.set_xlabel('x')\n",
        "ax.set_ylabel('y2')\n",
        "\n",
        "plt.show()"
      ]
    },
    {
      "cell_type": "code",
      "execution_count": 9,
      "metadata": {
        "id": "OYUNI8hnOppJ",
        "colab": {
          "base_uri": "https://localhost:8080/",
          "height": 449
        },
        "outputId": "279a1501-0bea-431f-f0c9-3211da0d9677"
      },
      "outputs": [
        {
          "output_type": "display_data",
          "data": {
            "text/plain": [
              "<Figure size 640x480 with 1 Axes>"
            ],
            "image/png": "[encoded data removed]"
          },
          "metadata": {}
        }
      ],
      "source": [
        "# plot several lines on the same figure\n",
        "\n",
        "# plot x vs y3, x vs 2*y3, x vs -2*y3\n",
        "\n",
        "fig,ax = plt.subplots()\n",
        "ax.plot(x, y3, label = '$x^2$')\n",
        "ax.plot(x, 2*y3, label = '$2*y3$')\n",
        "ax.plot(x, -2*y3, label = '$-2*y3$')\n",
        "\n",
        "ax.set_xlabel('$x$')\n",
        "ax.set_ylabel('$y$')\n",
        "plt.legend()\n",
        "\n",
        "plt.show()"
      ]
    },
    {
      "cell_type": "markdown",
      "metadata": {
        "id": "TO2upjrNOppL"
      },
      "source": [
        "## Define a function"
      ]
    },
    {
      "cell_type": "markdown",
      "metadata": {
        "id": "8Hc0wTXZOppL"
      },
      "source": [
        "Function are nice ways to make\n",
        "\n",
        "Let's define a very simple function for calculating the volume flow rate of water in a river. The volume flow rate tells you the volume of water flowing past a particular point in the river every second; e.g., 500 cubic feet per second. We typically refer to this important quantity with the variable, $Q$. One way in which we can define $Q$ is as the product of the average velocity of water in the river (how fast it's moving) multiplied by the cross sectional flow area (the area of water made by a 2D plane that intersection the bottom of the river at a perpendicular angle through which the water is flowing):\n",
        "\n",
        "$$\\text{Discharge = Velocity}~ x~ \\text{Area} $$\n",
        "\n",
        "or\n",
        "\n",
        "$$ Q = VA$$\n",
        "\n",
        "Now let's define a function that will give us $Q$ if we give it $A$ and $V$."
      ]
    },
    {
      "cell_type": "code",
      "execution_count": null,
      "metadata": {
        "id": "bZjfsVeoOppL",
        "colab": {
          "base_uri": "https://localhost:8080/"
        },
        "outputId": "1aa121ff-2278-4253-eb2b-1ec413378d9e"
      },
      "outputs": [
        {
          "output_type": "stream",
          "name": "stdout",
          "text": [
            "Discharge of the river = 65.367 [cfs]\n"
          ]
        }
      ],
      "source": [
        "def discharge(A,V):\n",
        "    return V*A\n",
        "\n",
        "# now use the function\n",
        "area = 24.3 #ft^2\n",
        "velocity = 2.69 #ft/s\n",
        "\n",
        "\n",
        "print('Discharge of the river =',discharge(area, velocity), '[cfs]')"
      ]
    },
    {
      "cell_type": "markdown",
      "metadata": {
        "id": "TavkxzldOppN"
      },
      "source": [
        "## Solving an implicit equation: Normal Depth\n",
        "\n",
        "We will use a defined function + ```fsolve``` to solve for normal depth in a trapezoidal channel:\n",
        "\n",
        "\n",
        "$$ Q = \\frac{k}{n}AR^\\frac{2}{3}\\sqrt{S} $$\n",
        "\n",
        "where $$A = (b+my)y $$\n",
        "\n",
        "$$P = b + 2y\\sqrt{1 + m^2} $$\n",
        "\n",
        "$$R = \\frac{A}{P}$$\n",
        "\n",
        "Goal: solve for the depth, $y$, given the flow characteristics and geometry of the bed.\n",
        "\n",
        "Since the equation cannote be solved explicitly for $y$, We will use the ```fsolve``` function in scipy: ```f_solution = fsolve(defname,guess, args=(list))```\n"
      ]
    },
    {
      "cell_type": "code",
      "execution_count": null,
      "metadata": {
        "id": "rCxYF7NnOppN"
      },
      "outputs": [],
      "source": [
        "#define the function by setting the formula equal to zero\n",
        "\n",
        "def normal_depth(y, k, Q, n, b, m, S):\n",
        "    A = (b+(m*y))*y\n",
        "    P = b + 2*y*np.sqrt(1 + m**2)\n",
        "    R = A/P\n",
        "    return (k/n)*A*R**(2/3)*np.sqrt(S) - Q"
      ]
    },
    {
      "cell_type": "code",
      "execution_count": null,
      "metadata": {
        "id": "5XO7s0mQOppQ",
        "colab": {
          "base_uri": "https://localhost:8080/"
        },
        "outputId": "e8450b0e-d82c-4687-b1c9-fd08372fa167"
      },
      "outputs": [
        {
          "output_type": "stream",
          "name": "stdout",
          "text": [
            "The normal depth is = [8.21517096]\n",
            "The normal depth is = [8.215] [ft]\n"
          ]
        }
      ],
      "source": [
        "from scipy.optimize import fsolve\n",
        "\n",
        "k = 1.49          #customary units coefficient\n",
        "Q =1200                 #cfs\n",
        "n = 0.04            #manning's roughness\n",
        "b = 50               #cross sectional bottom width\n",
        "m = 2              #cross sectional side slope ft/ft\n",
        "S = 0.0003        #channel slope ft/ft\n",
        "\n",
        "# need a guess value for y\n",
        "\n",
        "yguess = 5\n",
        "\n",
        "# now use fsolve to find the y\n",
        "\n",
        "normal_y = fsolve(normal_depth,yguess, args=(k, Q, n, b, m, S))\n",
        "\n",
        "# print the solution\n",
        "\n",
        "print('The normal depth is =', normal_y)\n",
        "print('The normal depth is =', np.around(normal_y,decimals=3), \"[ft]\")"
      ]
    },
    {
      "cell_type": "markdown",
      "source": [
        "# Practical Example: Data analysis and visualization for USGS stream data\n",
        "\n",
        "Another useful way to manipulate data is through dataframes. Dataframes have additional features that make them convenient to use, especially for data that would typically be found in an Excel spreadsheet.\n",
        "\n",
        "Additionally, we will be using the ```dataretrieval``` package from USGS to directly obtain streamflow data. More info on this package and its functionalities can be found [here](https://doi-usgs.github.io/dataretrieval-python/index.html) and [here](https://www.hydroshare.org/resource/c97c32ecf59b4dff90ef013030c54264/)"
      ],
      "metadata": {
        "id": "cP505_CFDer7"
      }
    },
    {
      "cell_type": "code",
      "source": [
        "bwinter"
      ],
      "metadata": {
        "id": "R27h9HDeuczA"
      },
      "execution_count": null,
      "outputs": []
    },
    {
      "cell_type": "code",
      "source": [
        "#google colab includes a lot of preinstalled packages (Numpy, matplotlib, etc.)\n",
        "#but those that aren't can be installed (and typically only need to be installed once)\n",
        "\n",
        "!pip install dataretrieval"
      ],
      "metadata": {
        "colab": {
          "base_uri": "https://localhost:8080/"
        },
        "id": "mwNVxD6LTs_J",
        "outputId": "8c29d1fc-1327-48d4-862f-882a76064003"
      },
      "execution_count": null,
      "outputs": [
        {
          "output_type": "stream",
          "name": "stdout",
          "text": [
            "Requirement already satisfied: dataretrieval in /usr/local/lib/python3.10/dist-packages (1.0.6)\n",
            "Requirement already satisfied: requests in /usr/local/lib/python3.10/dist-packages (from dataretrieval) (2.31.0)\n",
            "Requirement already satisfied: pandas in /usr/local/lib/python3.10/dist-packages (from dataretrieval) (2.2.1)\n",
            "Requirement already satisfied: numpy<2,>=1.22.4 in /usr/local/lib/python3.10/dist-packages (from pandas->dataretrieval) (1.25.2)\n",
            "Requirement already satisfied: python-dateutil>=2.8.2 in /usr/local/lib/python3.10/dist-packages (from pandas->dataretrieval) (2.8.2)\n",
            "Requirement already satisfied: pytz>=2020.1 in /usr/local/lib/python3.10/dist-packages (from pandas->dataretrieval) (2023.4)\n",
            "Requirement already satisfied: tzdata>=2022.7 in /usr/local/lib/python3.10/dist-packages (from pandas->dataretrieval) (2024.1)\n",
            "Requirement already satisfied: charset-normalizer<4,>=2 in /usr/local/lib/python3.10/dist-packages (from requests->dataretrieval) (3.3.2)\n",
            "Requirement already satisfied: idna<4,>=2.5 in /usr/local/lib/python3.10/dist-packages (from requests->dataretrieval) (3.6)\n",
            "Requirement already satisfied: urllib3<3,>=1.21.1 in /usr/local/lib/python3.10/dist-packages (from requests->dataretrieval) (2.0.7)\n",
            "Requirement already satisfied: certifi>=2017.4.17 in /usr/local/lib/python3.10/dist-packages (from requests->dataretrieval) (2024.2.2)\n",
            "Requirement already satisfied: six>=1.5 in /usr/local/lib/python3.10/dist-packages (from python-dateutil>=2.8.2->pandas->dataretrieval) (1.16.0)\n",
            "\u001b[33mWARNING: Running pip as the 'root' user can result in broken permissions and conflicting behaviour with the system package manager. It is recommended to use a virtual environment instead: https://pip.pypa.io/warnings/venv\u001b[0m\u001b[33m\n",
            "\u001b[0m"
          ]
        }
      ]
    }
  ],
  "metadata": {
    "anaconda-cloud": {},
    "colab": {
      "provenance": [],
      "toc_visible": true
    },
    "kernelspec": {
      "display_name": "Python 3 (ipykernel)",
      "language": "python",
      "name": "python3"
    },
    "language_info": {
      "codemirror_mode": {
        "name": "ipython",
        "version": 3
      },
      "file_extension": ".py",
      "mimetype": "text/x-python",
      "name": "python",
      "nbconvert_exporter": "python",
      "pygments_lexer": "ipython3",
      "version": "3.8.13"
    }
  },
  "nbformat": 4,
  "nbformat_minor": 0
}